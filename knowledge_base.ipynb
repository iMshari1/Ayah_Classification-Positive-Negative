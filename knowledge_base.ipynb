{
  "cells": [
    {
      "cell_type": "code",
      "execution_count": 1,
      "metadata": {
        "id": "Osbdc-vXeV6d"
      },
      "outputs": [
        {
          "name": "stderr",
          "output_type": "stream",
          "text": [
            "/Users/mshari/Library/Python/3.9/lib/python/site-packages/urllib3/__init__.py:35: NotOpenSSLWarning: urllib3 v2 only supports OpenSSL 1.1.1+, currently the 'ssl' module is compiled with 'LibreSSL 2.8.3'. See: https://github.com/urllib3/urllib3/issues/3020\n",
            "  warnings.warn(\n"
          ]
        }
      ],
      "source": [
        "import matplotlib.pyplot as plt\n",
        "import os\n",
        "import re\n",
        "import shutil\n",
        "import string\n",
        "import tensorflow as tf\n",
        "\n",
        "import tensorflow_hub as hub\n",
        "\n",
        "from tensorflow.keras import layers\n",
        "from tensorflow.keras import losses\n",
        "from tensorflow.keras import regularizers\n",
        "\n",
        "from collections import Counter\n",
        "\n",
        "\n",
        "import pandas as pd\n",
        "import numpy as np\n",
        "\n",
        "from sklearn.preprocessing import LabelEncoder\n",
        "from sklearn.model_selection import train_test_split\n",
        "\n",
        "import matplotlib.pyplot as plt\n",
        "\n",
        "\n",
        "import pydot"
      ]
    },
    {
      "cell_type": "code",
      "execution_count": 2,
      "metadata": {
        "id": "0AmIIyKUe1LH"
      },
      "outputs": [],
      "source": [
        "df = pd.read_excel(\"nlp_words.xlsx\")"
      ]
    },
    {
      "cell_type": "code",
      "execution_count": 3,
      "metadata": {
        "colab": {
          "base_uri": "https://localhost:8080/",
          "height": 363
        },
        "id": "XHpBQt9AfCzk",
        "outputId": "f35b016f-dc81-4464-fcbb-ad234891e5e7"
      },
      "outputs": [
        {
          "data": {
            "text/html": [
              "<div>\n",
              "<style scoped>\n",
              "    .dataframe tbody tr th:only-of-type {\n",
              "        vertical-align: middle;\n",
              "    }\n",
              "\n",
              "    .dataframe tbody tr th {\n",
              "        vertical-align: top;\n",
              "    }\n",
              "\n",
              "    .dataframe thead th {\n",
              "        text-align: right;\n",
              "    }\n",
              "</style>\n",
              "<table border=\"1\" class=\"dataframe\">\n",
              "  <thead>\n",
              "    <tr style=\"text-align: right;\">\n",
              "      <th></th>\n",
              "      <th>words</th>\n",
              "      <th>class</th>\n",
              "      <th>number of ayah</th>\n",
              "      <th>quarter</th>\n",
              "      <th>ayah</th>\n",
              "    </tr>\n",
              "  </thead>\n",
              "  <tbody>\n",
              "    <tr>\n",
              "      <th>0</th>\n",
              "      <td>حلًا</td>\n",
              "      <td>postive</td>\n",
              "      <td>92-93</td>\n",
              "      <td>الاول</td>\n",
              "      <td>كل الطعام كان حلًا لبني إسرائيل إلا ما حرم إسر...</td>\n",
              "    </tr>\n",
              "    <tr>\n",
              "      <th>1</th>\n",
              "      <td>حرم</td>\n",
              "      <td>negtive</td>\n",
              "      <td>92-93</td>\n",
              "      <td>الاول</td>\n",
              "      <td>كل الطعام كان حلًا لبني إسرائيل إلا ما حرم إسر...</td>\n",
              "    </tr>\n",
              "    <tr>\n",
              "      <th>2</th>\n",
              "      <td>الْكَذِبَ</td>\n",
              "      <td>negtive</td>\n",
              "      <td>93-94</td>\n",
              "      <td>الاول</td>\n",
              "      <td>فَمَنِ افْتَرَىٰ عَلَى اللَّهِ الْكَذِبَ مِنْ ...</td>\n",
              "    </tr>\n",
              "    <tr>\n",
              "      <th>3</th>\n",
              "      <td>الظَّالِمُونَ</td>\n",
              "      <td>negtive</td>\n",
              "      <td>93-94</td>\n",
              "      <td>الاول</td>\n",
              "      <td>فَمَنِ افْتَرَىٰ عَلَى اللَّهِ الْكَذِبَ مِنْ ...</td>\n",
              "    </tr>\n",
              "    <tr>\n",
              "      <th>4</th>\n",
              "      <td>صَدَقَ</td>\n",
              "      <td>postive</td>\n",
              "      <td>94-95</td>\n",
              "      <td>الاول</td>\n",
              "      <td>قُلْ صَدَقَ اللَّهُ ۗ فَاتَّبِعُوا مِلَّةَ إِب...</td>\n",
              "    </tr>\n",
              "    <tr>\n",
              "      <th>5</th>\n",
              "      <td>مُبَارَكًا</td>\n",
              "      <td>postive</td>\n",
              "      <td>95-96</td>\n",
              "      <td>الاول</td>\n",
              "      <td>إِنَّ أَوَّلَ بَيْتٍ وُضِعَ لِلنَّاسِ لَلَّذِي...</td>\n",
              "    </tr>\n",
              "    <tr>\n",
              "      <th>6</th>\n",
              "      <td>وَهُدًى</td>\n",
              "      <td>postive</td>\n",
              "      <td>95-96</td>\n",
              "      <td>الاول</td>\n",
              "      <td>إِنَّ أَوَّلَ بَيْتٍ وُضِعَ لِلنَّاسِ لَلَّذِي...</td>\n",
              "    </tr>\n",
              "    <tr>\n",
              "      <th>7</th>\n",
              "      <td>آمِنًا</td>\n",
              "      <td>postive</td>\n",
              "      <td>96-97</td>\n",
              "      <td>الاول</td>\n",
              "      <td>فِيهِ آيَاتٌ بَيِّنَاتٌ مَقَامُ إِبْرَاهِيمَ ۖ...</td>\n",
              "    </tr>\n",
              "    <tr>\n",
              "      <th>8</th>\n",
              "      <td>تَكْفُرُون</td>\n",
              "      <td>negtive</td>\n",
              "      <td>97-98</td>\n",
              "      <td>الاول</td>\n",
              "      <td>قُلْ يَا أَهْلَ الْكِتَابِ لِمَ تَكْفُرُونَ بِ...</td>\n",
              "    </tr>\n",
              "    <tr>\n",
              "      <th>9</th>\n",
              "      <td>تَصُدُّونَ</td>\n",
              "      <td>negtive</td>\n",
              "      <td>98-99</td>\n",
              "      <td>الاول</td>\n",
              "      <td>قُلْ يَا أَهْلَ الْكِتَابِ لِمَ تَصُدُّونَ عَن...</td>\n",
              "    </tr>\n",
              "  </tbody>\n",
              "</table>\n",
              "</div>"
            ],
            "text/plain": [
              "           words    class number of ayah quarter  \\\n",
              "0           حلًا  postive          92-93   الاول   \n",
              "1            حرم  negtive          92-93   الاول   \n",
              "2      الْكَذِبَ  negtive          93-94   الاول   \n",
              "3  الظَّالِمُونَ  negtive          93-94   الاول   \n",
              "4         صَدَقَ  postive          94-95   الاول   \n",
              "5    مُبَارَكًا   postive          95-96   الاول   \n",
              "6        وَهُدًى  postive          95-96   الاول   \n",
              "7         آمِنًا  postive          96-97   الاول   \n",
              "8     تَكْفُرُون  negtive          97-98   الاول   \n",
              "9     تَصُدُّونَ  negtive          98-99   الاول   \n",
              "\n",
              "                                                ayah  \n",
              "0  كل الطعام كان حلًا لبني إسرائيل إلا ما حرم إسر...  \n",
              "1  كل الطعام كان حلًا لبني إسرائيل إلا ما حرم إسر...  \n",
              "2  فَمَنِ افْتَرَىٰ عَلَى اللَّهِ الْكَذِبَ مِنْ ...  \n",
              "3  فَمَنِ افْتَرَىٰ عَلَى اللَّهِ الْكَذِبَ مِنْ ...  \n",
              "4  قُلْ صَدَقَ اللَّهُ ۗ فَاتَّبِعُوا مِلَّةَ إِب...  \n",
              "5  إِنَّ أَوَّلَ بَيْتٍ وُضِعَ لِلنَّاسِ لَلَّذِي...  \n",
              "6  إِنَّ أَوَّلَ بَيْتٍ وُضِعَ لِلنَّاسِ لَلَّذِي...  \n",
              "7  فِيهِ آيَاتٌ بَيِّنَاتٌ مَقَامُ إِبْرَاهِيمَ ۖ...  \n",
              "8  قُلْ يَا أَهْلَ الْكِتَابِ لِمَ تَكْفُرُونَ بِ...  \n",
              "9  قُلْ يَا أَهْلَ الْكِتَابِ لِمَ تَصُدُّونَ عَن...  "
            ]
          },
          "execution_count": 3,
          "metadata": {},
          "output_type": "execute_result"
        }
      ],
      "source": [
        "df.head(10)"
      ]
    },
    {
      "cell_type": "code",
      "execution_count": 4,
      "metadata": {
        "id": "hlVvudJZUjKb"
      },
      "outputs": [],
      "source": [
        "df_use = df[['words']]"
      ]
    },
    {
      "cell_type": "code",
      "execution_count": null,
      "metadata": {},
      "outputs": [],
      "source": [
        "df_use"
      ]
    },
    {
      "cell_type": "code",
      "execution_count": null,
      "metadata": {
        "colab": {
          "base_uri": "https://localhost:8080/"
        },
        "id": "4-u0SgU4fFHU",
        "outputId": "575e6578-be6a-4dcd-f90a-a02fb3e01fba"
      },
      "outputs": [],
      "source": [
        "result = [] \n",
        "for value in df[\"class\"]: \n",
        "    if value == 'negtive': \n",
        "        result.append(\"Negative\") \n",
        "    elif value== 'postive': \n",
        "        result.append(\"Positive\")\n",
        "       \n",
        "df_use[\"Result\"] = result    \n",
        "       \n",
        "  "
      ]
    },
    {
      "cell_type": "code",
      "execution_count": 6,
      "metadata": {
        "colab": {
          "base_uri": "https://localhost:8080/",
          "height": 175
        },
        "id": "NXUur1kRfRdS",
        "outputId": "fe1dd8b2-051f-43a8-f336-7e9ca5af2bfa"
      },
      "outputs": [
        {
          "data": {
            "text/html": [
              "<div>\n",
              "<style scoped>\n",
              "    .dataframe tbody tr th:only-of-type {\n",
              "        vertical-align: middle;\n",
              "    }\n",
              "\n",
              "    .dataframe tbody tr th {\n",
              "        vertical-align: top;\n",
              "    }\n",
              "\n",
              "    .dataframe thead tr th {\n",
              "        text-align: left;\n",
              "    }\n",
              "\n",
              "    .dataframe thead tr:last-of-type th {\n",
              "        text-align: right;\n",
              "    }\n",
              "</style>\n",
              "<table border=\"1\" class=\"dataframe\">\n",
              "  <thead>\n",
              "    <tr>\n",
              "      <th></th>\n",
              "      <th colspan=\"4\" halign=\"left\">words</th>\n",
              "    </tr>\n",
              "    <tr>\n",
              "      <th></th>\n",
              "      <th>count</th>\n",
              "      <th>unique</th>\n",
              "      <th>top</th>\n",
              "      <th>freq</th>\n",
              "    </tr>\n",
              "    <tr>\n",
              "      <th>Result</th>\n",
              "      <th></th>\n",
              "      <th></th>\n",
              "      <th></th>\n",
              "      <th></th>\n",
              "    </tr>\n",
              "  </thead>\n",
              "  <tbody>\n",
              "    <tr>\n",
              "      <th>Negative</th>\n",
              "      <td>151</td>\n",
              "      <td>127</td>\n",
              "      <td>عذاب</td>\n",
              "      <td>5</td>\n",
              "    </tr>\n",
              "    <tr>\n",
              "      <th>Positive</th>\n",
              "      <td>154</td>\n",
              "      <td>123</td>\n",
              "      <td>امنوا</td>\n",
              "      <td>7</td>\n",
              "    </tr>\n",
              "  </tbody>\n",
              "</table>\n",
              "</div>"
            ],
            "text/plain": [
              "         words                   \n",
              "         count unique    top freq\n",
              "Result                           \n",
              "Negative   151    127   عذاب    5\n",
              "Positive   154    123  امنوا    7"
            ]
          },
          "execution_count": 6,
          "metadata": {},
          "output_type": "execute_result"
        }
      ],
      "source": [
        "df_use.groupby('Result').describe()"
      ]
    },
    {
      "cell_type": "code",
      "execution_count": 7,
      "metadata": {
        "id": "3kkGZjvVfTT7"
      },
      "outputs": [],
      "source": [
        "data=[['كُلُّ الطَّعَامِ كَانَ حِلًّا لِبَنِي إِسْرَائِيلَ إِلَّا مَا حَرَّمَ إِسْرَائِيلُ عَلَىٰ نَفْسِهِ مِنْ قَبْلِ أَنْ تُنَزَّلَ التَّوْرَاةُ ۗ قُلْ فَأْتُوا بِالتَّوْرَاةِ فَاتْلُوهَا إِنْ كُنْتُمْ صَادِقِينَ','Neutral']]"
      ]
    },
    {
      "cell_type": "code",
      "execution_count": 8,
      "metadata": {
        "colab": {
          "base_uri": "https://localhost:8080/",
          "height": 81
        },
        "id": "UJ1nmmmefYgv",
        "outputId": "ab31cdff-4791-4396-9617-412fe1c59c4a"
      },
      "outputs": [
        {
          "data": {
            "text/html": [
              "<div>\n",
              "<style scoped>\n",
              "    .dataframe tbody tr th:only-of-type {\n",
              "        vertical-align: middle;\n",
              "    }\n",
              "\n",
              "    .dataframe tbody tr th {\n",
              "        vertical-align: top;\n",
              "    }\n",
              "\n",
              "    .dataframe thead th {\n",
              "        text-align: right;\n",
              "    }\n",
              "</style>\n",
              "<table border=\"1\" class=\"dataframe\">\n",
              "  <thead>\n",
              "    <tr style=\"text-align: right;\">\n",
              "      <th></th>\n",
              "      <th>words</th>\n",
              "      <th>Result</th>\n",
              "    </tr>\n",
              "  </thead>\n",
              "  <tbody>\n",
              "    <tr>\n",
              "      <th>0</th>\n",
              "      <td>كُلُّ الطَّعَامِ كَانَ حِلًّا لِبَنِي إِسْرَائ...</td>\n",
              "      <td>Neutral</td>\n",
              "    </tr>\n",
              "  </tbody>\n",
              "</table>\n",
              "</div>"
            ],
            "text/plain": [
              "                                               words   Result\n",
              "0  كُلُّ الطَّعَامِ كَانَ حِلًّا لِبَنِي إِسْرَائ...  Neutral"
            ]
          },
          "execution_count": 8,
          "metadata": {},
          "output_type": "execute_result"
        }
      ],
      "source": [
        "test_df=pd.DataFrame(data,columns=['words','Result'])\n",
        "test_df.head()"
      ]
    },
    {
      "cell_type": "code",
      "execution_count": 9,
      "metadata": {
        "colab": {
          "base_uri": "https://localhost:8080/",
          "height": 526
        },
        "id": "duWsGPgQfyJe",
        "outputId": "6118cde2-cc7e-45e4-cc51-534c722c6313"
      },
      "outputs": [
        {
          "data": {
            "text/markdown": [
              "> كل الطعام كان حلًا لبني إسرائيل إلا ما حرم إسرائيل على نفسه من قبل أن تنزل التوراة، قل فأتوا بالتوراة فاتلوها إن كنتم صادقين"
            ],
            "text/plain": [
              "<IPython.core.display.Markdown object>"
            ]
          },
          "metadata": {},
          "output_type": "display_data"
        },
        {
          "name": "stdout",
          "output_type": "stream",
          "text": [
            "--------------------------------------\n"
          ]
        },
        {
          "data": {
            "text/markdown": [
              "> كل الطعام كان حلًا لبني إسرائيل إلا ما حرم إسرائيل على نفسه من قبل أن تنزل التوراة، قل فأتوا بالتوراة فاتلوها إن كنتم صادقين"
            ],
            "text/plain": [
              "<IPython.core.display.Markdown object>"
            ]
          },
          "metadata": {},
          "output_type": "display_data"
        },
        {
          "name": "stdout",
          "output_type": "stream",
          "text": [
            "--------------------------------------\n"
          ]
        },
        {
          "data": {
            "text/markdown": [
              "> فَمَنِ افْتَرَىٰ عَلَى اللَّهِ الْكَذِبَ مِنْ بَعْدِ ذَٰلِكَ فَأُولَٰئِكَ هُمُ الظَّالِمُونَ"
            ],
            "text/plain": [
              "<IPython.core.display.Markdown object>"
            ]
          },
          "metadata": {},
          "output_type": "display_data"
        },
        {
          "name": "stdout",
          "output_type": "stream",
          "text": [
            "--------------------------------------\n"
          ]
        },
        {
          "data": {
            "text/markdown": [
              "> فَمَنِ افْتَرَىٰ عَلَى اللَّهِ الْكَذِبَ مِنْ بَعْدِ ذَٰلِكَ فَأُولَٰئِكَ هُمُ الظَّالِمُونَ"
            ],
            "text/plain": [
              "<IPython.core.display.Markdown object>"
            ]
          },
          "metadata": {},
          "output_type": "display_data"
        },
        {
          "name": "stdout",
          "output_type": "stream",
          "text": [
            "--------------------------------------\n"
          ]
        },
        {
          "data": {
            "text/markdown": [
              "> قُلْ صَدَقَ اللَّهُ ۗ فَاتَّبِعُوا مِلَّةَ إِبْرَاهِيمَ حَنِيفًا وَمَا كَانَ مِنَ الْمُشْرِكِينَ"
            ],
            "text/plain": [
              "<IPython.core.display.Markdown object>"
            ]
          },
          "metadata": {},
          "output_type": "display_data"
        },
        {
          "name": "stdout",
          "output_type": "stream",
          "text": [
            "--------------------------------------\n"
          ]
        },
        {
          "data": {
            "text/markdown": [
              "> إِنَّ أَوَّلَ بَيْتٍ وُضِعَ لِلنَّاسِ لَلَّذِي بِبَكَّةَ مُبَارَكًا وَهُدًى لِلْعَالَمِينَ"
            ],
            "text/plain": [
              "<IPython.core.display.Markdown object>"
            ]
          },
          "metadata": {},
          "output_type": "display_data"
        },
        {
          "name": "stdout",
          "output_type": "stream",
          "text": [
            "--------------------------------------\n"
          ]
        },
        {
          "data": {
            "text/markdown": [
              "> إِنَّ أَوَّلَ بَيْتٍ وُضِعَ لِلنَّاسِ لَلَّذِي بِبَكَّةَ مُبَارَكًا وَهُدًى لِلْعَالَمِينَ"
            ],
            "text/plain": [
              "<IPython.core.display.Markdown object>"
            ]
          },
          "metadata": {},
          "output_type": "display_data"
        },
        {
          "name": "stdout",
          "output_type": "stream",
          "text": [
            "--------------------------------------\n"
          ]
        },
        {
          "data": {
            "text/markdown": [
              "> فِيهِ آيَاتٌ بَيِّنَاتٌ مَقَامُ إِبْرَاهِيمَ ۖ وَمَنْ دَخَلَهُ كَانَ آمِنًا ۗ وَلِلَّهِ عَلَى النَّاسِ حِجُّ الْبَيْتِ مَنِ اسْتَطَاعَ إِلَيْهِ سَبِيلًا ۚ وَمَنْ كَفَرَ فَإِنَّ اللَّهَ غَنِيٌّ عَنِ الْعَالَمِينَ"
            ],
            "text/plain": [
              "<IPython.core.display.Markdown object>"
            ]
          },
          "metadata": {},
          "output_type": "display_data"
        },
        {
          "name": "stdout",
          "output_type": "stream",
          "text": [
            "--------------------------------------\n"
          ]
        }
      ],
      "source": [
        "from IPython.display import Markdown, display\n",
        "for i in range(8):\n",
        "    display(Markdown('> '+df['ayah'][i]))\n",
        "    print('--------------------------------------')"
      ]
    },
    {
      "cell_type": "code",
      "execution_count": 10,
      "metadata": {
        "colab": {
          "base_uri": "https://localhost:8080/"
        },
        "id": "xvl-9kt4f3gy",
        "outputId": "24729444-03f3-4292-b207-7bd3faee36b2"
      },
      "outputs": [
        {
          "data": {
            "text/plain": [
              "305"
            ]
          },
          "execution_count": 10,
          "metadata": {},
          "output_type": "execute_result"
        }
      ],
      "source": [
        "len(df)"
      ]
    },
    {
      "cell_type": "code",
      "execution_count": 11,
      "metadata": {
        "colab": {
          "base_uri": "https://localhost:8080/"
        },
        "id": "K2CPKO78f4-b",
        "outputId": "efae8ead-f324-4a8a-e53e-16cbb537cb7a"
      },
      "outputs": [
        {
          "data": {
            "text/plain": [
              "class\n",
              "postive    154\n",
              "negtive    151\n",
              "Name: count, dtype: int64"
            ]
          },
          "execution_count": 11,
          "metadata": {},
          "output_type": "execute_result"
        }
      ],
      "source": [
        "df['class'].value_counts()"
      ]
    },
    {
      "cell_type": "code",
      "execution_count": 12,
      "metadata": {
        "colab": {
          "base_uri": "https://localhost:8080/",
          "height": 338
        },
        "id": "ErW2aisHgEim",
        "outputId": "62eb6255-fa8d-48b4-959c-2806e21abdc6"
      },
      "outputs": [
        {
          "data": {
            "image/png": "[encoded data removed]",
            "text/plain": [
              "<Figure size 640x480 with 1 Axes>"
            ]
          },
          "metadata": {},
          "output_type": "display_data"
        }
      ],
      "source": [
        "import seaborn as sns\n",
        "import matplotlib.pyplot as plt\n",
        "\n",
        "sns.countplot(df.iloc[:,1])\n",
        "plt.xlabel('Classes')\n",
        "plt.ylabel('Number of occurrences')\n",
        "plt.show()"
      ]
    }
  ],
  "metadata": {
    "colab": {
      "provenance": []
    },
    "kernelspec": {
      "display_name": "Python 3",
      "name": "python3"
    },
    "language_info": {
      "codemirror_mode": {
        "name": "ipython",
        "version": 3
      },
      "file_extension": ".py",
      "mimetype": "text/x-python",
      "name": "python",
      "nbconvert_exporter": "python",
      "pygments_lexer": "ipython3",
      "version": "3.9.6"
    }
  },
  "nbformat": 4,
  "nbformat_minor": 0
}
